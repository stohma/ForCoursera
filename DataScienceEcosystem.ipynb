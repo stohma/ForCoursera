{
 "cells": [
  {
   "cell_type": "markdown",
   "id": "c21859c2-b2cd-465a-ae0b-45730182c341",
   "metadata": {},
   "source": [
    "# Data Science Tools and Ecosystem"
   ]
  },
  {
   "cell_type": "markdown",
   "id": "a26cac33-64b6-4342-9ee6-fcf4f89d65a8",
   "metadata": {},
   "source": [
    "In this notebook, Data Science Tools and Ecosystem are summarized."
   ]
  },
  {
   "cell_type": "raw",
   "id": "c9f20997-0740-4965-b246-92bb408a950b",
   "metadata": {},
   "source": [
    "Some of the popular languages that Data Scientists use are:"
   ]
  },
  {
   "cell_type": "code",
   "execution_count": null,
   "id": "52b97c2d-b129-4d76-a8a9-31da1b7276c7",
   "metadata": {},
   "outputs": [],
   "source": [
    "# ordered list:\n",
    "    # 1 - SQL,\n",
    "    # 2 - Python,\n",
    "    # 3 - R"
   ]
  },
  {
   "cell_type": "markdown",
   "id": "9f29fd71-431d-4078-923b-406352f48979",
   "metadata": {},
   "source": [
    "Some of the commonly used libraries used by Data Scientists include:"
   ]
  },
  {
   "cell_type": "code",
   "execution_count": null,
   "id": "ccc2ebb6-2455-4800-8bc5-6f798b72eee2",
   "metadata": {},
   "outputs": [],
   "source": [
    "# ordered list:\n",
    "   # 1- NumPy, \n",
    "   # 2- Pandas,\n",
    "   # 3- Matplotlib"
   ]
  },
  {
   "cell_type": "markdown",
   "id": "7f306365-598c-4327-9224-475956f19d1d",
   "metadata": {},
   "source": [
    "Data Science Tools"
   ]
  },
  {
   "cell_type": "code",
   "execution_count": 6,
   "id": "d7b6cf87-3930-4d58-b4d7-be73b10c7139",
   "metadata": {},
   "outputs": [],
   "source": [
    "# 1- Jupyter Notebook\n",
    "# 2- Spyder\n",
    "# 3- RStudio"
   ]
  },
  {
   "cell_type": "markdown",
   "id": "b11084eb-322e-44c7-91cf-bcf1ace57369",
   "metadata": {
    "tags": []
   },
   "source": [
    "### Below are a few examples of evaluating arithmetic expressions in Python"
   ]
  },
  {
   "cell_type": "code",
   "execution_count": 8,
   "id": "f730cd3c-b35b-4714-939c-7333b1bf6bef",
   "metadata": {},
   "outputs": [
    {
     "data": {
      "text/plain": [
       "17"
      ]
     },
     "execution_count": 8,
     "metadata": {},
     "output_type": "execute_result"
    }
   ],
   "source": [
    "(3*4)+5\n",
    "\n",
    "#This a simple arithmetic expression to mutiply then add integers"
   ]
  },
  {
   "cell_type": "code",
   "execution_count": 9,
   "id": "c1946473-b5e2-4ff2-817a-db24bac2e493",
   "metadata": {},
   "outputs": [
    {
     "data": {
      "text/plain": [
       "3.3333333333333335"
      ]
     },
     "execution_count": 9,
     "metadata": {},
     "output_type": "execute_result"
    }
   ],
   "source": [
    "# This will convert 200 minutes to hours by diving by 60\n",
    "\n",
    "200 / 60"
   ]
  },
  {
   "cell_type": "markdown",
   "id": "6fc6f5e2-389a-4fb0-b24a-24bec58544cc",
   "metadata": {},
   "source": [
    "#### Objectives:"
   ]
  },
  {
   "cell_type": "code",
   "execution_count": 10,
   "id": "a34096ea-0b59-4bab-b7a1-11231d90ca5d",
   "metadata": {},
   "outputs": [],
   "source": [
    "# Popular programming languages for data science, such as Python, R, and SQL."
   ]
  },
  {
   "cell_type": "markdown",
   "id": "1058ae05-3ad0-41e2-91fa-668dbb937bfa",
   "metadata": {
    "tags": []
   },
   "source": [
    "## Serdar Tohma"
   ]
  },
  {
   "cell_type": "code",
   "execution_count": null,
   "id": "24cdfd9d-9cf7-4442-9b7e-cd33e2fc1d26",
   "metadata": {},
   "outputs": [],
   "source": []
  }
 ],
 "metadata": {
  "kernelspec": {
   "display_name": "Python 3 (ipykernel)",
   "language": "python",
   "name": "python3"
  },
  "language_info": {
   "codemirror_mode": {
    "name": "ipython",
    "version": 3
   },
   "file_extension": ".py",
   "mimetype": "text/x-python",
   "name": "python",
   "nbconvert_exporter": "python",
   "pygments_lexer": "ipython3",
   "version": "3.9.13"
  }
 },
 "nbformat": 4,
 "nbformat_minor": 5
}
